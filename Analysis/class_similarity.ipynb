{
 "cells": [
  {
   "cell_type": "code",
   "execution_count": 4,
   "id": "191021ca",
   "metadata": {},
   "outputs": [],
   "source": [
    "from tqdm import tqdm\n",
    "import numpy as np"
   ]
  },
  {
   "cell_type": "code",
   "execution_count": 5,
   "id": "6881743e",
   "metadata": {},
   "outputs": [],
   "source": [
    "data = np.load('./feature/caltech-256_features.npz')\n",
    "vit_features = data['vit_features']\n",
    "clip_features = data['clip_features']\n",
    "labels = data['labels']"
   ]
  },
  {
   "cell_type": "code",
   "execution_count": 8,
   "id": "072c32f6",
   "metadata": {},
   "outputs": [
    {
     "name": "stderr",
     "output_type": "stream",
     "text": [
      "100%|███████████████████████████████| 100000/100000 [00:00<00:00, 183808.98it/s]"
     ]
    },
    {
     "name": "stdout",
     "output_type": "stream",
     "text": [
      "Same: 44.6866. Diffferent: 80.5453\r"
     ]
    },
    {
     "name": "stderr",
     "output_type": "stream",
     "text": [
      "\n"
     ]
    }
   ],
   "source": [
    "features = clip_features\n",
    "same_class_dist = []\n",
    "different_class_dist = []\n",
    "for i in tqdm(range(100000)):\n",
    "    idx1 = np.random.randint(len(labels))\n",
    "    idx2 = np.random.randint(len(labels))\n",
    "    if idx1 == idx2:\n",
    "        continue\n",
    "    dist = np.dot(features[idx1] - features[idx2], features[idx1] - features[idx2])\n",
    "#     dist = 1 - np.dot(features[idx1], features[idx2]) / (np.linalg.norm(features[idx1]) * np.linalg.norm(features[idx2]))\n",
    "    if labels[idx1] == labels[idx2]:\n",
    "        same_class_dist.append(dist)\n",
    "    else:\n",
    "        different_class_dist.append(dist)\n",
    "    \n",
    "same = np.mean(same_class_dist) if len(same_class_dist) > 0 else -1\n",
    "different = np.mean(different_class_dist) if len(different_class_dist) > 0 else -1\n",
    "print('Same: %.4f. Diffferent: %.4f' % (same, different), end='\\r')"
   ]
  },
  {
   "cell_type": "code",
   "execution_count": null,
   "id": "2a9e9d22",
   "metadata": {},
   "outputs": [],
   "source": []
  }
 ],
 "metadata": {
  "kernelspec": {
   "display_name": "Python 3 (ipykernel)",
   "language": "python",
   "name": "python3"
  },
  "language_info": {
   "codemirror_mode": {
    "name": "ipython",
    "version": 3
   },
   "file_extension": ".py",
   "mimetype": "text/x-python",
   "name": "python",
   "nbconvert_exporter": "python",
   "pygments_lexer": "ipython3",
   "version": "3.10.9"
  }
 },
 "nbformat": 4,
 "nbformat_minor": 5
}
