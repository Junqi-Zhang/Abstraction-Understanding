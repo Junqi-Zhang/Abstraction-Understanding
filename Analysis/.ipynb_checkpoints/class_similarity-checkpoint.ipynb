{
 "cells": [
  {
   "cell_type": "code",
   "execution_count": 1,
   "id": "3e65469d",
   "metadata": {},
   "outputs": [],
   "source": [
    "from tqdm import tqdm\n",
    "import numpy as np"
   ]
  },
  {
   "cell_type": "code",
   "execution_count": 2,
   "id": "4ee6133d",
   "metadata": {},
   "outputs": [],
   "source": [
    "data = np.load('./feature/caltech-256_features.npz')\n",
    "vit_features = data['vit_features']\n",
    "clip_features = data['clip_features']\n",
    "labels = data['labels']"
   ]
  },
  {
   "cell_type": "code",
   "execution_count": 3,
   "id": "ad615f7c",
   "metadata": {},
   "outputs": [
    {
     "name": "stderr",
     "output_type": "stream",
     "text": [
      "100%|█████████████████████████████| 1000000/1000000 [00:05<00:00, 194994.34it/s]"
     ]
    },
    {
     "name": "stdout",
     "output_type": "stream",
     "text": [
      "Same: 45.4757. Diffferent: 80.4316\r"
     ]
    },
    {
     "name": "stderr",
     "output_type": "stream",
     "text": [
      "\n"
     ]
    }
   ],
   "source": [
    "features = clip_features\n",
    "same_class_dist = []\n",
    "different_class_dist = []\n",
    "for i in tqdm(range(5000000)):\n",
    "    idx1 = np.random.randint(len(labels))\n",
    "    idx2 = np.random.randint(len(labels))\n",
    "    if idx1 == idx2:\n",
    "        continue\n",
    "    dist = np.dot(features[idx1] - features[idx2], features[idx1] - features[idx2])\n",
    "    if labels[idx1] == labels[idx2]:\n",
    "        same_class_dist.append(dist)\n",
    "    else:\n",
    "        different_class_dist.append(dist)\n",
    "    \n",
    "same = np.mean(same_class_dist) if len(same_class_dist) > 0 else -1\n",
    "different = np.mean(different_class_dist) if len(different_class_dist) > 0 else -1\n",
    "print('Same: %.4f. Diffferent: %.4f' % (same, different), end='\\r')"
   ]
  },
  {
   "cell_type": "code",
   "execution_count": null,
   "id": "fcbb4f74",
   "metadata": {},
   "outputs": [],
   "source": []
  }
 ],
 "metadata": {
  "kernelspec": {
   "display_name": "Python 3 (ipykernel)",
   "language": "python",
   "name": "python3"
  },
  "language_info": {
   "codemirror_mode": {
    "name": "ipython",
    "version": 3
   },
   "file_extension": ".py",
   "mimetype": "text/x-python",
   "name": "python",
   "nbconvert_exporter": "python",
   "pygments_lexer": "ipython3",
   "version": "3.10.9"
  }
 },
 "nbformat": 4,
 "nbformat_minor": 5
}
